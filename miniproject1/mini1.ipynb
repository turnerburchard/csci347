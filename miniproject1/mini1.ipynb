{
 "cells": [
  {
   "cell_type": "code",
   "execution_count": 34,
   "id": "4876ce0762a11a5c",
   "metadata": {
    "collapsed": false,
    "ExecuteTime": {
     "end_time": "2024-02-08T23:04:44.461117Z",
     "start_time": "2024-02-08T23:04:44.458491Z"
    }
   },
   "outputs": [],
   "source": [
    "import pandas as pd\n",
    "import numpy as np\n",
    "pd.set_option('display.width', 1000)"
   ]
  },
  {
   "cell_type": "code",
   "outputs": [
    {
     "name": "stdout",
     "output_type": "stream",
     "text": [
      "   X  Y month  day  FFMC   DMC     DC  ISI  temp  RH  wind  rain  area\n",
      "0  7  5   mar  fri  86.2  26.2   94.3  5.1   8.2  51   6.7   0.0   0.0\n",
      "1  7  4   oct  tue  90.6  35.4  669.1  6.7  18.0  33   0.9   0.0   0.0\n",
      "2  7  4   oct  sat  90.6  43.7  686.9  6.7  14.6  33   1.3   0.0   0.0\n",
      "3  8  6   mar  fri  91.7  33.3   77.5  9.0   8.3  97   4.0   0.2   0.0\n",
      "4  8  6   mar  sun  89.3  51.3  102.2  9.6  11.4  99   1.8   0.0   0.0\n"
     ]
    }
   ],
   "source": [
    "forest_fires = pd.read_csv('forestfires.csv')\n",
    "\n",
    "print(forest_fires.head())"
   ],
   "metadata": {
    "collapsed": false,
    "ExecuteTime": {
     "end_time": "2024-02-08T23:04:44.469659Z",
     "start_time": "2024-02-08T23:04:44.461698Z"
    }
   },
   "id": "60b5d30a83c324f9",
   "execution_count": 35
  },
  {
   "cell_type": "code",
   "outputs": [],
   "source": [
    "def compute_multi_dimensional_mean(data: np.ndarray) -> np.ndarray:\n",
    "    if data.size == 0:\n",
    "        raise ValueError(\"Input data is empty\")\n",
    "\n",
    "    num_rows = data.shape[0]\n",
    "\n",
    "    sum_values = np.sum(data, axis=0)\n",
    "\n",
    "    mean = sum_values / num_rows\n",
    "\n",
    "    return mean\n"
   ],
   "metadata": {
    "collapsed": true,
    "ExecuteTime": {
     "end_time": "2024-02-13T22:26:52.153827Z",
     "start_time": "2024-02-13T22:26:52.150978Z"
    }
   },
   "id": "initial_id",
   "execution_count": 170
  },
  {
   "cell_type": "code",
   "outputs": [
    {
     "name": "stdout",
     "output_type": "stream",
     "text": [
      "[4. 5. 6.]\n",
      "Multi dimensional mean correct\n"
     ]
    }
   ],
   "source": [
    "data = np.array([[1, 2, 3],\n",
    "                 [4, 5, 6],\n",
    "                 [7, 8, 9]])\n",
    "\n",
    "expected_mean = np.array([4., 5., 6.])\n",
    "calculated_output = compute_multi_dimensional_mean(data)\n",
    "\n",
    "print(calculated_output)\n",
    "assert np.array_equal(expected_mean, calculated_output), \"Mean calculation incorrect\"\n",
    "print(\"Multi dimensional mean correct\")"
   ],
   "metadata": {
    "collapsed": false,
    "ExecuteTime": {
     "end_time": "2024-02-13T22:26:52.674412Z",
     "start_time": "2024-02-13T22:26:52.671719Z"
    }
   },
   "id": "fee05926195dbed7",
   "execution_count": 171
  },
  {
   "cell_type": "code",
   "outputs": [],
   "source": [
    "def compute_sample_covariance(attribute1, attribute2):\n",
    "    if len(attribute1) != len(attribute2):\n",
    "        raise ValueError(\"Input vectors must have the same length\")\n",
    "    \n",
    "    n = len(attribute1)\n",
    "    mean1 = np.mean(attribute1)\n",
    "    mean2 = np.mean(attribute2)\n",
    "\n",
    "    covariance = np.sum((attribute1 - mean1) * (attribute2 - mean2)) / (n - 1)\n",
    "    \n",
    "    return covariance"
   ],
   "metadata": {
    "collapsed": false,
    "ExecuteTime": {
     "end_time": "2024-02-13T22:19:03.280503Z",
     "start_time": "2024-02-13T22:19:03.266270Z"
    }
   },
   "id": "38e65e087e2957f0",
   "execution_count": 141
  },
  {
   "cell_type": "code",
   "outputs": [
    {
     "name": "stdout",
     "output_type": "stream",
     "text": [
      "-2.5\n",
      "Covariance calculation correct\n"
     ]
    }
   ],
   "source": [
    "attribute1 = np.array([1, 2, 3, 4, 5])\n",
    "attribute2 = np.array([5, 4, 3, 2, 1])\n",
    "\n",
    "expected_covariance = -2.5\n",
    "calculated_output = compute_sample_covariance(attribute1, attribute2)\n",
    "\n",
    "print(calculated_output)\n",
    "assert np.isclose(expected_covariance, calculated_output), \"Covariance calculation incorrect\"\n",
    "print(\"Covariance calculation correct\")"
   ],
   "metadata": {
    "collapsed": false,
    "ExecuteTime": {
     "end_time": "2024-02-13T22:26:39.256779Z",
     "start_time": "2024-02-13T22:26:39.252939Z"
    }
   },
   "id": "751f9c21d29f8891",
   "execution_count": 168
  },
  {
   "cell_type": "code",
   "outputs": [],
   "source": [
    "def compute_correlation(attribute1, attribute2):\n",
    "    if len(attribute1) != len(attribute2):\n",
    "        raise ValueError(\"Input vectors must have the same length\")\n",
    "\n",
    "    mean1 = np.mean(attribute1)\n",
    "    mean2 = np.mean(attribute2)\n",
    "\n",
    "    covariance = np.sum((attribute1 - mean1) * (attribute2 - mean2))\n",
    "    std_dev1 = np.sqrt(np.sum((attribute1 - mean1) ** 2))\n",
    "    std_dev2 = np.sqrt(np.sum((attribute2 - mean2) ** 2))\n",
    "\n",
    "    correlation = covariance / (std_dev1 * std_dev2)\n",
    "\n",
    "    return correlation"
   ],
   "metadata": {
    "collapsed": false,
    "ExecuteTime": {
     "end_time": "2024-02-13T22:19:03.757134Z",
     "start_time": "2024-02-13T22:19:03.755309Z"
    }
   },
   "id": "c01fd08797f1fbcc",
   "execution_count": 143
  },
  {
   "cell_type": "code",
   "outputs": [
    {
     "name": "stdout",
     "output_type": "stream",
     "text": [
      "-0.9999999999999998\n",
      "Correlation calculation correct\n"
     ]
    }
   ],
   "source": [
    "attribute1 = np.array([1, 2, 3, 4, 5])\n",
    "attribute2 = np.array([5, 4, 3, 2, 1])\n",
    "\n",
    "expected_correlation = -1.0\n",
    "calculated_output = compute_correlation(attribute1, attribute2)\n",
    "\n",
    "print(calculated_output)\n",
    "assert np.isclose(expected_correlation, calculated_output), \"Correlation calculation incorrect\"\n",
    "print(\"Correlation calculation correct\")"
   ],
   "metadata": {
    "collapsed": false,
    "ExecuteTime": {
     "end_time": "2024-02-13T22:26:29.289218Z",
     "start_time": "2024-02-13T22:26:29.285138Z"
    }
   },
   "id": "7cce061a3e16a7e9",
   "execution_count": 167
  },
  {
   "cell_type": "code",
   "outputs": [],
   "source": [
    "def range_normalize_matrix(matrix):\n",
    "    normalized_matrix = np.zeros_like(matrix, dtype=float)\n",
    "    \n",
    "    for i in range(matrix.shape[1]):\n",
    "        column = matrix[:, i]\n",
    "        min_val = np.min(column)\n",
    "        max_val = np.max(column)\n",
    "        \n",
    "        if min_val == max_val:\n",
    "            normalized_matrix[:, i] = 0\n",
    "        else:\n",
    "            normalized_matrix[:, i] = (column - min_val) / (max_val - min_val)\n",
    "    \n",
    "    return normalized_matrix\n",
    "                "
   ],
   "metadata": {
    "collapsed": false,
    "ExecuteTime": {
     "end_time": "2024-02-13T22:19:04.422543Z",
     "start_time": "2024-02-13T22:19:04.421182Z"
    }
   },
   "id": "97b37acea233ddb7",
   "execution_count": 145
  },
  {
   "cell_type": "code",
   "outputs": [
    {
     "name": "stdout",
     "output_type": "stream",
     "text": [
      "[[0.  0.  0. ]\n",
      " [0.5 0.5 0.5]\n",
      " [1.  1.  1. ]]\n",
      "Range normalization calculation correct\n"
     ]
    }
   ],
   "source": [
    "array = np.array([[1,2,3],[4,5,6],[7,8,9]])\n",
    "\n",
    "expected_output = np.array([[0. , 0., 0. ],\n",
    "[0.5, 0.5, 0.5],\n",
    "[1. , 1., 1. ]])\n",
    "\n",
    "calculated_output = range_normalize_matrix(array)\n",
    "\n",
    "print(calculated_output)\n",
    "assert np.allclose(expected_output, calculated_output), \"Range normalization calculation incorrect\"\n",
    "print(\"Range normalization calculation correct\")"
   ],
   "metadata": {
    "collapsed": false,
    "ExecuteTime": {
     "end_time": "2024-02-13T22:26:12.023980Z",
     "start_time": "2024-02-13T22:26:12.019544Z"
    }
   },
   "id": "64068c9e86f4dd18",
   "execution_count": 166
  },
  {
   "cell_type": "code",
   "outputs": [],
   "source": [
    "def standard_normalize_matrix(matrix):\n",
    "    normalized_matrix = np.zeros_like(matrix, dtype=float)\n",
    "    \n",
    "    for i in range(matrix.shape[1]):\n",
    "        column = matrix[:, i]\n",
    "        mean_val = np.mean(column)\n",
    "        std_val = np.std(column)\n",
    "        \n",
    "        normalized_matrix[:, i] = (column - mean_val) / std_val\n",
    "    \n",
    "    return normalized_matrix\n",
    "                "
   ],
   "metadata": {
    "collapsed": false,
    "ExecuteTime": {
     "end_time": "2024-02-13T22:19:04.597601Z",
     "start_time": "2024-02-13T22:19:04.587218Z"
    }
   },
   "id": "3c19b0e1e8f8606d",
   "execution_count": 147
  },
  {
   "cell_type": "code",
   "outputs": [
    {
     "name": "stdout",
     "output_type": "stream",
     "text": [
      "[[-1.22474487 -1.22474487 -1.22474487]\n",
      " [ 0.          0.          0.        ]\n",
      " [ 1.22474487  1.22474487  1.22474487]]\n",
      "Standard normalization calculation correct\n"
     ]
    }
   ],
   "source": [
    "array = np.array([[1,2,3],[4,5,6],[7,8,9]])\n",
    "\n",
    "expected_output = np.array([[ -1.22474487, -1.22474487, -1.22474487],\n",
    " [  0.        ,  0.        ,  0.        ],\n",
    " [  1.22474487,  1.22474487,  1.22474487]]\n",
    ")\n",
    "\n",
    "calculated_output = standard_normalize_matrix(array)\n",
    "\n",
    "\n",
    "print(calculated_output)\n",
    "assert np.allclose(expected_output, calculated_output), \"Standard normalization calculation incorrect\"\n",
    "print(\"Standard normalization calculation correct\")"
   ],
   "metadata": {
    "collapsed": false,
    "ExecuteTime": {
     "end_time": "2024-02-13T22:26:02.933416Z",
     "start_time": "2024-02-13T22:26:02.929249Z"
    }
   },
   "id": "86401f3d3c69971e",
   "execution_count": 165
  },
  {
   "cell_type": "code",
   "outputs": [],
   "source": [
    "def compute_covariance_matrix(matrix):\n",
    "    num_variables = matrix.shape[1]\n",
    "    num_observations = matrix.shape[0]\n",
    "        \n",
    "    covariance_matrix = np.zeros((num_variables, num_variables))\n",
    "\n",
    "    for i in range(num_variables):\n",
    "        for j in range(num_variables):\n",
    "            covariance_ij = compute_sample_covariance(matrix[:, i], matrix[:, j])\n",
    "            covariance_matrix[i, j] = covariance_ij\n",
    "\n",
    "    return covariance_matrix"
   ],
   "metadata": {
    "collapsed": false,
    "ExecuteTime": {
     "end_time": "2024-02-13T22:19:04.764104Z",
     "start_time": "2024-02-13T22:19:04.754632Z"
    }
   },
   "id": "106df111f570546f",
   "execution_count": 149
  },
  {
   "cell_type": "code",
   "outputs": [
    {
     "name": "stdout",
     "output_type": "stream",
     "text": [
      "[[9. 9. 9.]\n",
      " [9. 9. 9.]\n",
      " [9. 9. 9.]]\n",
      "Covariance matrix calculation correct\n"
     ]
    }
   ],
   "source": [
    "data = np.array([[1, 2, 3], [4, 5, 6], [7, 8, 9]]) \n",
    "\n",
    "\n",
    "expected_output = [[9., 9., 9.],\n",
    " [9., 9., 9.],\n",
    " [9., 9., 9.]]\n",
    "\n",
    "\n",
    "calculated_output = compute_covariance_matrix(data)\n",
    "\n",
    "print(calculated_output)\n",
    "assert np.allclose(expected_output, calculated_output), \"Covariance matrix calculation incorrect\"\n",
    "print(\"Covariance matrix calculation correct\")"
   ],
   "metadata": {
    "collapsed": false,
    "ExecuteTime": {
     "end_time": "2024-02-13T22:25:50.663725Z",
     "start_time": "2024-02-13T22:25:50.659643Z"
    }
   },
   "id": "ecd16fd0f6c87562",
   "execution_count": 164
  },
  {
   "cell_type": "code",
   "outputs": [],
   "source": [
    "def label_encode_matrix(matrix):\n",
    "    encoded_matrix = np.zeros_like(matrix, dtype=int)\n",
    "    \n",
    "    for i in range(matrix.shape[1]):\n",
    "        label_map = {}\n",
    "        current_label = 0\n",
    "\n",
    "\n",
    "        column = matrix[:, i]\n",
    "        encoded_column = np.zeros_like(column, dtype=int)\n",
    "        \n",
    "        for j, value in enumerate(column):\n",
    "            if value not in label_map:\n",
    "                label_map[value] = current_label\n",
    "                current_label += 1\n",
    "            encoded_column[j] = label_map[value]\n",
    "        \n",
    "        encoded_matrix[:, i] = encoded_column\n",
    "    \n",
    "    return encoded_matrix"
   ],
   "metadata": {
    "collapsed": false,
    "ExecuteTime": {
     "end_time": "2024-02-13T22:25:05.816238Z",
     "start_time": "2024-02-13T22:25:05.786333Z"
    }
   },
   "id": "56308db69931123b",
   "execution_count": 159
  },
  {
   "cell_type": "code",
   "outputs": [
    {
     "name": "stdout",
     "output_type": "stream",
     "text": [
      "[[0 0 0]\n",
      " [1 1 0]\n",
      " [0 1 1]]\n",
      "Covariance matrix calculation correct\n"
     ]
    }
   ],
   "source": [
    "array = np.array([['A', 'B', 'C'],\n",
    "                  ['D', 'E', 'C'],\n",
    "                  ['A', 'E', 'I']])\n",
    "\n",
    "calculated_output = label_encode_matrix(array)\n",
    "\n",
    "expected_output = [[0, 0, 0],\n",
    " [1, 1, 0],\n",
    " [0, 1, 1]]\n",
    "\n",
    "print(calculated_output)\n",
    "assert np.allclose(expected_output, calculated_output), \"Covariance matrix calculation incorrect\"\n",
    "print(\"Covariance matrix calculation correct\")"
   ],
   "metadata": {
    "collapsed": false,
    "ExecuteTime": {
     "end_time": "2024-02-13T22:25:44.282239Z",
     "start_time": "2024-02-13T22:25:44.279229Z"
    }
   },
   "id": "38d554fb40d656fb",
   "execution_count": 163
  },
  {
   "cell_type": "code",
   "outputs": [],
   "source": [],
   "metadata": {
    "collapsed": false,
    "ExecuteTime": {
     "end_time": "2024-02-13T22:19:05.115319Z",
     "start_time": "2024-02-13T22:19:05.097180Z"
    }
   },
   "id": "d70d4e360c1767f5",
   "execution_count": 150
  },
  {
   "cell_type": "code",
   "outputs": [],
   "source": [],
   "metadata": {
    "collapsed": false,
    "ExecuteTime": {
     "end_time": "2024-02-13T22:19:05.179925Z",
     "start_time": "2024-02-13T22:19:05.177684Z"
    }
   },
   "id": "73dcff4f45025da6",
   "execution_count": 150
  },
  {
   "cell_type": "code",
   "outputs": [],
   "source": [],
   "metadata": {
    "collapsed": false,
    "ExecuteTime": {
     "end_time": "2024-02-13T22:19:05.268332Z",
     "start_time": "2024-02-13T22:19:05.262898Z"
    }
   },
   "id": "b629deb7f1bca165",
   "execution_count": 150
  },
  {
   "cell_type": "code",
   "outputs": [],
   "source": [],
   "metadata": {
    "collapsed": false
   },
   "id": "c8ee9bb37f2bf5de"
  }
 ],
 "metadata": {
  "kernelspec": {
   "display_name": "Python 3",
   "language": "python",
   "name": "python3"
  },
  "language_info": {
   "codemirror_mode": {
    "name": "ipython",
    "version": 2
   },
   "file_extension": ".py",
   "mimetype": "text/x-python",
   "name": "python",
   "nbconvert_exporter": "python",
   "pygments_lexer": "ipython2",
   "version": "2.7.6"
  }
 },
 "nbformat": 4,
 "nbformat_minor": 5
}
