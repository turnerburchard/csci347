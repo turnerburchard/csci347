{
 "cells": [
  {
   "cell_type": "code",
   "execution_count": 39,
   "id": "initial_id",
   "metadata": {
    "collapsed": true,
    "ExecuteTime": {
     "end_time": "2024-05-01T20:56:17.899155Z",
     "start_time": "2024-05-01T20:56:15.235715Z"
    }
   },
   "outputs": [],
   "source": [
    "import numpy as np\n",
    "import pandas as pd\n",
    "from sklearn.preprocessing import LabelEncoder"
   ]
  },
  {
   "cell_type": "code",
   "outputs": [
    {
     "name": "stdout",
     "output_type": "stream",
     "text": [
      "[[1 1 'Precious Achiuwa' ... 0.3 -1.4 0.2]\n",
      " [2 2 'Bam Adebayo' ... 1.7 2.4 2.7]\n",
      " [3 3 'Ochai Agbaji' ... -0.9 -4.4 -1.0]\n",
      " ...\n",
      " [570 570 'Omer Yurtseven' ... -1.5 -3.0 -0.1]\n",
      " [571 571 'Cody Zeller' ... 0.3 -2.6 0.0]\n",
      " [572 572 'Ivica Zubac' ... 0.0 0.8 1.3]]\n"
     ]
    }
   ],
   "source": [
    "# open nba statistics file\n",
    "\n",
    "nba_stats = pd.read_csv('nba.csv')\n",
    "nba_stats = nba_stats.to_numpy()\n",
    "\n",
    "print(nba_stats)"
   ],
   "metadata": {
    "collapsed": false,
    "ExecuteTime": {
     "end_time": "2024-05-01T20:56:17.915841Z",
     "start_time": "2024-05-01T20:56:17.898023Z"
    }
   },
   "id": "a4be85409f1a022a",
   "execution_count": 40
  },
  {
   "cell_type": "code",
   "outputs": [
    {
     "name": "stdout",
     "output_type": "stream",
     "text": [
      "[[1 1 'Precious Achiuwa' 1 24]\n",
      " [2 2 'Bam Adebayo' 0 26]\n",
      " [3 3 'Ochai Agbaji' 4 23]\n",
      " ...\n",
      " [570 570 'Omer Yurtseven' 0 25]\n",
      " [571 571 'Cody Zeller' 0 31]\n",
      " [572 572 'Ivica Zubac' 0 26]]\n"
     ]
    }
   ],
   "source": [
    "# encode the position column\n",
    "label_encoder = LabelEncoder()\n",
    "encoded_data = label_encoder.fit_transform(nba_stats[:,3])\n",
    "\n",
    "nba_stats[:,3] = encoded_data\n",
    "\n",
    "print(nba_stats[:,:5])\n"
   ],
   "metadata": {
    "collapsed": false,
    "ExecuteTime": {
     "end_time": "2024-05-01T20:58:19.918280Z",
     "start_time": "2024-05-01T20:58:19.913153Z"
    }
   },
   "id": "24c2fc962106a59e",
   "execution_count": 50
  },
  {
   "cell_type": "code",
   "outputs": [],
   "source": [],
   "metadata": {
    "collapsed": false,
    "ExecuteTime": {
     "end_time": "2024-05-01T20:20:43.965474Z",
     "start_time": "2024-05-01T20:20:43.945761Z"
    }
   },
   "id": "3c29dba72969ad19",
   "execution_count": null
  },
  {
   "cell_type": "code",
   "outputs": [],
   "source": [],
   "metadata": {
    "collapsed": false,
    "ExecuteTime": {
     "end_time": "2024-05-01T20:20:43.993715Z",
     "start_time": "2024-05-01T20:20:43.967525Z"
    }
   },
   "id": "1c06d879842f28d5",
   "execution_count": 0
  }
 ],
 "metadata": {
  "kernelspec": {
   "display_name": "Python 3",
   "language": "python",
   "name": "python3"
  },
  "language_info": {
   "codemirror_mode": {
    "name": "ipython",
    "version": 2
   },
   "file_extension": ".py",
   "mimetype": "text/x-python",
   "name": "python",
   "nbconvert_exporter": "python",
   "pygments_lexer": "ipython2",
   "version": "2.7.6"
  }
 },
 "nbformat": 4,
 "nbformat_minor": 5
}
