{
 "cells": [
  {
   "cell_type": "code",
   "execution_count": 76,
   "id": "initial_id",
   "metadata": {
    "collapsed": true,
    "ExecuteTime": {
     "end_time": "2024-03-04T19:23:01.913877Z",
     "start_time": "2024-03-04T19:23:01.912109Z"
    }
   },
   "outputs": [],
   "source": [
    "import numpy as np\n",
    "import networkx as nx\n",
    "import matplotlib.pyplot as plt\n",
    "import math\n",
    "from collections import defaultdict\n",
    "\n"
   ]
  },
  {
   "cell_type": "code",
   "outputs": [],
   "source": [],
   "metadata": {
    "collapsed": false,
    "ExecuteTime": {
     "end_time": "2024-03-04T18:51:18.436073Z",
     "start_time": "2024-03-04T18:51:18.434026Z"
    }
   },
   "id": "81fe3ba710e9bfc2",
   "execution_count": 33
  },
  {
   "cell_type": "code",
   "outputs": [],
   "source": [
    "def display_graph(graph_edges):\n",
    "    \n",
    "    G = nx.Graph()\n",
    "    \n",
    "    G.add_edges_from(graph_edges)\n",
    "    \n",
    "    nx.draw(G, with_labels=True, font_weight='bold')\n",
    "    \n",
    "    plt.title('Undirected Unweighted Graph')\n",
    "    plt.show()"
   ],
   "metadata": {
    "collapsed": false,
    "ExecuteTime": {
     "end_time": "2024-03-04T18:39:40.220978Z",
     "start_time": "2024-03-04T18:39:40.218207Z"
    }
   },
   "id": "ba253d55cf936033",
   "execution_count": 11
  },
  {
   "cell_type": "markdown",
   "source": [
    "Part 2 #4"
   ],
   "metadata": {
    "collapsed": false
   },
   "id": "a86329195072edba"
  },
  {
   "cell_type": "code",
   "outputs": [],
   "source": [
    "def get_number_of_vertices(graph_edges):\n",
    "    return len(set(np.array(graph_edges).flatten()))"
   ],
   "metadata": {
    "collapsed": false,
    "ExecuteTime": {
     "end_time": "2024-03-04T18:46:38.100443Z",
     "start_time": "2024-03-04T18:46:38.097095Z"
    }
   },
   "id": "21cf7253ebde3317",
   "execution_count": 27
  },
  {
   "cell_type": "markdown",
   "source": [
    "Part 2 #5"
   ],
   "metadata": {
    "collapsed": false
   },
   "id": "c66573f29b4c9eac"
  },
  {
   "cell_type": "code",
   "outputs": [],
   "source": [
    "def get_unique_graph(graph_edges):\n",
    "    for i in range(len(graph_edges)):\n",
    "        edge = graph_edges[i]\n",
    "        \n",
    "        if edge[0] > edge[1]:\n",
    "            graph_edges[i] = (edge[1], edge[0])\n",
    "    \n",
    "    \n",
    "    unique_edges = set(graph_edges)\n",
    "    \n",
    "    return unique_edges\n",
    "\n",
    "def get_vertex_degree(graph_edges, vertex):\n",
    "    unique_edges = get_unique_graph(graph_edges)\n",
    "    \n",
    "    vertex_degree = 0\n",
    "    for edge in unique_edges:\n",
    "        if vertex in edge:\n",
    "            vertex_degree += 1\n",
    "    \n",
    "    return vertex_degree\n",
    "    "
   ],
   "metadata": {
    "collapsed": false,
    "ExecuteTime": {
     "end_time": "2024-03-04T19:03:06.113929Z",
     "start_time": "2024-03-04T19:03:06.111389Z"
    }
   },
   "id": "d9d3ae001ffdbecd",
   "execution_count": 46
  },
  {
   "cell_type": "markdown",
   "source": [
    "Part 2 #6"
   ],
   "metadata": {
    "collapsed": false
   },
   "id": "31c6c8dc8741c7da"
  },
  {
   "cell_type": "code",
   "outputs": [],
   "source": [
    "def calculate_clustering_coefficient(number_of_neighbors, actual_connections):\n",
    "    if number_of_neighbors == 1:\n",
    "        return 0\n",
    "    possible_neighbors = math.comb(number_of_neighbors, 2)\n",
    "    return actual_connections / possible_neighbors\n",
    "\n",
    "def get_connections(graph_edges, vertex):\n",
    "    edges = []\n",
    "    for edge in graph_edges:\n",
    "        if vertex in edge:\n",
    "            edges.append(edge)\n",
    "            \n",
    "    return set(np.array(edges).flatten())\n",
    "\n",
    "def get_subgraph(graph_edges, vertex):\n",
    "    unique_edges = get_unique_graph(graph_edges)\n",
    "    \n",
    "    connections = get_connections(unique_edges, vertex)\n",
    "        \n",
    "    subgraph = []\n",
    "    \n",
    "    for edge in unique_edges:\n",
    "        if all(num in connections for num in edge):\n",
    "            subgraph.append(edge)\n",
    "            \n",
    "    return subgraph\n",
    "\n",
    "def get_vertex_clustering_coefficient(graph_edges, vertex):\n",
    "    vertex_degree = get_vertex_degree(graph_edges, vertex)\n",
    "    \n",
    "    subgraph = get_subgraph(graph_edges, vertex)\n",
    "    \n",
    "    actual_connections = len([pair for pair in subgraph if vertex not in pair])\n",
    "    \n",
    "    return calculate_clustering_coefficient(vertex_degree, actual_connections)\n",
    "    "
   ],
   "metadata": {
    "collapsed": false,
    "ExecuteTime": {
     "end_time": "2024-03-04T19:17:05.032025Z",
     "start_time": "2024-03-04T19:17:05.027247Z"
    }
   },
   "id": "8a1eefbe749203",
   "execution_count": 71
  },
  {
   "cell_type": "markdown",
   "source": [
    "Part 2 #7"
   ],
   "metadata": {
    "collapsed": false
   },
   "id": "40da7f0743ba426e"
  },
  {
   "cell_type": "code",
   "outputs": [],
   "source": [
    "def get_betweenness_centrality(graph_edges, vertex):\n",
    "    G = nx.Graph()\n",
    "    G.add_edges_from(graph_edges)\n",
    "\n",
    "    shortest_paths = dict(nx.all_pairs_shortest_path(G))\n",
    "\n",
    "    target_betweenness_centrality = 0\n",
    "\n",
    "    for source, paths in shortest_paths.items():\n",
    "        for end, path in paths.items():\n",
    "            if vertex in path[1:-1]:\n",
    "                total_shortest_paths = len(shortest_paths[source][end])\n",
    "                target_betweenness_centrality += path.count(vertex) / total_shortest_paths\n",
    "\n",
    "    return target_betweenness_centrality"
   ],
   "metadata": {
    "collapsed": false,
    "ExecuteTime": {
     "end_time": "2024-03-04T23:29:03.834561Z",
     "start_time": "2024-03-04T23:29:03.830131Z"
    }
   },
   "id": "dcc42fbcdd478428",
   "execution_count": 114
  },
  {
   "cell_type": "markdown",
   "source": [
    "Part 2 #8"
   ],
   "metadata": {
    "collapsed": false
   },
   "id": "8b916e47483339b2"
  },
  {
   "cell_type": "code",
   "outputs": [],
   "source": [
    "def get_average_shortest_path_length(graph_edges):\n",
    "    G = nx.Graph()\n",
    "    G.add_edges_from(graph_edges)\n",
    "    \n",
    "    shortest_path_lengths = []\n",
    "    nodes = G.nodes()\n",
    "    for node1 in nodes:\n",
    "        for node2 in nodes:\n",
    "            if node1 != node2:\n",
    "                shortest_path_lengths.append(nx.shortest_path_length(G, source=node1, target=node2))\n",
    "\n",
    "    average_shortest_path_length = sum(shortest_path_lengths) / len(shortest_path_lengths)\n",
    "    return average_shortest_path_length\n",
    "    \n",
    "    "
   ],
   "metadata": {
    "collapsed": false,
    "ExecuteTime": {
     "end_time": "2024-03-04T19:56:24.138605Z",
     "start_time": "2024-03-04T19:56:24.134672Z"
    }
   },
   "id": "df3b44cd16353572",
   "execution_count": 93
  },
  {
   "cell_type": "markdown",
   "source": [
    "Part 2 #9"
   ],
   "metadata": {
    "collapsed": false
   },
   "id": "dbeb06208925ab9e"
  },
  {
   "cell_type": "code",
   "outputs": [],
   "source": [
    "# NOTE this function assumes a 0-indexed graph and treats all as such\n",
    "\n",
    "def get_adjacency_matrix(graph_edges):\n",
    "    num_nodes = max(max(edge) for edge in graph_edges) + 1\n",
    "    \n",
    "    adjacency_matrix = np.zeros((num_nodes, num_nodes))\n",
    "    \n",
    "    for edge in graph_edges:\n",
    "        node1, node2 = edge\n",
    "        adjacency_matrix[node1][node2] = 1\n",
    "        adjacency_matrix[node2][node1] = 1  \n",
    "    \n",
    "    return adjacency_matrix"
   ],
   "metadata": {
    "collapsed": false,
    "ExecuteTime": {
     "end_time": "2024-03-04T20:00:19.808624Z",
     "start_time": "2024-03-04T20:00:19.801757Z"
    }
   },
   "id": "2c57538717bbc93b",
   "execution_count": 98
  },
  {
   "cell_type": "code",
   "outputs": [
    {
     "name": "stdout",
     "output_type": "stream",
     "text": [
      "11\n",
      "7\n",
      "0.19047619047619047\n",
      "12.750000000000002\n",
      "1.709090909090909\n",
      "[[0. 0. 0. 0. 0. 0. 0. 0. 0. 0. 0. 0.]\n",
      " [0. 0. 1. 1. 1. 1. 1. 1. 0. 0. 1. 0.]\n",
      " [0. 1. 0. 0. 0. 0. 0. 1. 1. 1. 0. 0.]\n",
      " [0. 1. 0. 0. 1. 0. 1. 0. 1. 0. 0. 0.]\n",
      " [0. 1. 0. 1. 0. 0. 0. 0. 1. 0. 0. 0.]\n",
      " [0. 1. 0. 0. 0. 0. 0. 1. 0. 0. 0. 0.]\n",
      " [0. 1. 0. 1. 0. 0. 0. 0. 1. 0. 0. 0.]\n",
      " [0. 1. 1. 0. 0. 1. 0. 0. 1. 1. 0. 0.]\n",
      " [0. 0. 1. 1. 1. 0. 1. 1. 0. 1. 1. 0.]\n",
      " [0. 0. 1. 0. 0. 0. 0. 1. 1. 0. 1. 0.]\n",
      " [0. 1. 0. 0. 0. 0. 0. 0. 1. 1. 0. 1.]\n",
      " [0. 0. 0. 0. 0. 0. 0. 0. 0. 0. 1. 0.]]\n"
     ]
    }
   ],
   "source": [
    "def main():\n",
    "    input_graph = [\n",
    "        (1, 2), (1, 3), (1, 4), (1, 5), (1, 6), (1,10),\n",
    "        (2, 7), (2,8), (2,9),\n",
    "        (3, 4), (3, 6), (3, 8),\n",
    "        (4, 8),\n",
    "        (5, 7),\n",
    "        (6, 8),\n",
    "        (7, 8), (7, 9),\n",
    "        (8, 9), (8, 10),\n",
    "        (9, 10),\n",
    "        (10, 11),\n",
    "        (2, 1),\n",
    "        (10, 11),\n",
    "        (7, 1)\n",
    "    ] \n",
    "    \n",
    "    G = nx.Graph()\n",
    "    G.add_edges_from(input_graph)\n",
    "    \n",
    "    print(get_number_of_vertices(input_graph)) # 11\n",
    "    print(get_vertex_degree(input_graph, 1)) # 6\n",
    "    print(get_vertex_clustering_coefficient(input_graph, 1)) # 0.190\n",
    "    print(get_betweenness_centrality(input_graph, 1)) # 0.293\n",
    "    print(get_average_shortest_path_length(input_graph)) # 1.709\n",
    "    print(get_adjacency_matrix(input_graph))\n",
    "    \n",
    "\n",
    "\n",
    "main()"
   ],
   "metadata": {
    "collapsed": false,
    "ExecuteTime": {
     "end_time": "2024-03-04T23:29:09.102755Z",
     "start_time": "2024-03-04T23:29:09.100503Z"
    }
   },
   "id": "a532b366b16c115e",
   "execution_count": 115
  },
  {
   "cell_type": "code",
   "outputs": [],
   "source": [],
   "metadata": {
    "collapsed": false
   },
   "id": "45de2814feda6209"
  }
 ],
 "metadata": {
  "kernelspec": {
   "display_name": "Python 3",
   "language": "python",
   "name": "python3"
  },
  "language_info": {
   "codemirror_mode": {
    "name": "ipython",
    "version": 2
   },
   "file_extension": ".py",
   "mimetype": "text/x-python",
   "name": "python",
   "nbconvert_exporter": "python",
   "pygments_lexer": "ipython2",
   "version": "2.7.6"
  }
 },
 "nbformat": 4,
 "nbformat_minor": 5
}
