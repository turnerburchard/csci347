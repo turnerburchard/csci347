{
 "cells": [
  {
   "cell_type": "code",
   "execution_count": 182,
   "id": "initial_id",
   "metadata": {
    "collapsed": true,
    "ExecuteTime": {
     "end_time": "2024-03-05T22:48:45.274688Z",
     "start_time": "2024-03-05T22:48:45.254888Z"
    }
   },
   "outputs": [],
   "source": [
    "# import necessary libraries\n",
    "import numpy as np\n",
    "import networkx as nx\n",
    "import matplotlib.pyplot as plt\n",
    "import math"
   ]
  },
  {
   "cell_type": "code",
   "outputs": [],
   "source": [],
   "metadata": {
    "collapsed": false,
    "ExecuteTime": {
     "end_time": "2024-03-05T22:48:45.275976Z",
     "start_time": "2024-03-05T22:48:45.263945Z"
    }
   },
   "id": "81fe3ba710e9bfc2",
   "execution_count": 182
  },
  {
   "cell_type": "code",
   "outputs": [],
   "source": [
    "# helpful to visualize the graph\n",
    "def display_graph(graph_edges):\n",
    "    \n",
    "    # translate to networkx graph\n",
    "    G = nx.Graph()\n",
    "    G.add_edges_from(graph_edges)\n",
    "    \n",
    "    # display the graph\n",
    "    nx.draw(G, with_labels=True, font_weight='bold')\n",
    "    plt.title('Undirected Unweighted Graph')\n",
    "    plt.show()"
   ],
   "metadata": {
    "collapsed": false,
    "ExecuteTime": {
     "end_time": "2024-03-05T22:48:45.284595Z",
     "start_time": "2024-03-05T22:48:45.278794Z"
    }
   },
   "id": "ba253d55cf936033",
   "execution_count": 183
  },
  {
   "cell_type": "markdown",
   "source": [
    "Part 2 #4"
   ],
   "metadata": {
    "collapsed": false
   },
   "id": "a86329195072edba"
  },
  {
   "cell_type": "code",
   "outputs": [],
   "source": [
    "# just gets the length of the array vertices\n",
    "def get_number_of_vertices(graph_edges):\n",
    "    return len(set(np.array(graph_edges).flatten()))"
   ],
   "metadata": {
    "collapsed": false,
    "ExecuteTime": {
     "end_time": "2024-03-05T22:48:45.285498Z",
     "start_time": "2024-03-05T22:48:45.281791Z"
    }
   },
   "id": "21cf7253ebde3317",
   "execution_count": 184
  },
  {
   "cell_type": "markdown",
   "source": [
    "Part 2 #5"
   ],
   "metadata": {
    "collapsed": false
   },
   "id": "c66573f29b4c9eac"
  },
  {
   "cell_type": "code",
   "outputs": [],
   "source": [
    "# helper function to remove duplicate edges\n",
    "def get_unique_graph(graph_edges):\n",
    "    for i in range(len(graph_edges)):\n",
    "        edge = graph_edges[i]\n",
    "        \n",
    "        # sort edges to make sure they are in the same order\n",
    "        if edge[0] > edge[1]:\n",
    "            graph_edges[i] = (edge[1], edge[0])\n",
    "    \n",
    "    # remove duplicates\n",
    "    unique_edges = set(graph_edges)\n",
    "    \n",
    "    return unique_edges\n",
    "\n",
    "# counts connections from the target vertex\n",
    "def get_vertex_degree(graph_edges, vertex):\n",
    "    unique_edges = get_unique_graph(graph_edges)\n",
    "    \n",
    "    vertex_degree = 0\n",
    "    # count the number of times the vertex appears in the unique edges\n",
    "    for edge in unique_edges:\n",
    "        if vertex in edge:\n",
    "            vertex_degree += 1\n",
    "    \n",
    "    return vertex_degree\n",
    "    "
   ],
   "metadata": {
    "collapsed": false,
    "ExecuteTime": {
     "end_time": "2024-03-05T22:48:45.295354Z",
     "start_time": "2024-03-05T22:48:45.284705Z"
    }
   },
   "id": "d9d3ae001ffdbecd",
   "execution_count": 185
  },
  {
   "cell_type": "markdown",
   "source": [
    "Part 2 #6"
   ],
   "metadata": {
    "collapsed": false
   },
   "id": "31c6c8dc8741c7da"
  },
  {
   "cell_type": "code",
   "outputs": [],
   "source": [
    "# helper function to calculate coefficient given the number of neighbors and actual connections\n",
    "def calculate_clustering_coefficient(number_of_neighbors, actual_connections):\n",
    "    if number_of_neighbors == 1:\n",
    "        return 0\n",
    "    \n",
    "    # calculate the number of possible connections by using the combination formula\n",
    "    possible_neighbors = math.comb(number_of_neighbors, 2)\n",
    "    return actual_connections / possible_neighbors\n",
    "\n",
    "# helper function to get all connections to the target vertex\n",
    "def get_connections(graph_edges, vertex):\n",
    "    edges = []\n",
    "    \n",
    "    # get all the edges that contain the target vertex\n",
    "    for edge in graph_edges:\n",
    "        if vertex in edge:\n",
    "            edges.append(edge)\n",
    "            \n",
    "    return set(np.array(edges).flatten())\n",
    "\n",
    "# helper function to get the subgraph of the target vertex\n",
    "def get_subgraph(graph_edges, vertex):\n",
    "    unique_edges = get_unique_graph(graph_edges)\n",
    "    \n",
    "    connections = get_connections(unique_edges, vertex)\n",
    "        \n",
    "    subgraph = []\n",
    "    \n",
    "    # get all the edges that contain the connections\n",
    "    for edge in unique_edges:\n",
    "        if all(num in connections for num in edge):\n",
    "            subgraph.append(edge)\n",
    "            \n",
    "    return subgraph\n",
    "\n",
    "# uses subgraph to get the number of connections to the vertex and calculate the coefficient\n",
    "def get_vertex_clustering_coefficient(graph_edges, vertex):\n",
    "    vertex_degree = get_vertex_degree(graph_edges, vertex)\n",
    "    \n",
    "    subgraph = get_subgraph(graph_edges, vertex)\n",
    "    \n",
    "    # count the number of actual connections\n",
    "    actual_connections = len([pair for pair in subgraph if vertex not in pair])\n",
    "    \n",
    "    return calculate_clustering_coefficient(vertex_degree, actual_connections)\n",
    "    "
   ],
   "metadata": {
    "collapsed": false,
    "ExecuteTime": {
     "end_time": "2024-03-05T22:48:45.295603Z",
     "start_time": "2024-03-05T22:48:45.289102Z"
    }
   },
   "id": "8a1eefbe749203",
   "execution_count": 186
  },
  {
   "cell_type": "markdown",
   "source": [
    "Part 2 #7"
   ],
   "metadata": {
    "collapsed": false
   },
   "id": "40da7f0743ba426e"
  },
  {
   "cell_type": "code",
   "outputs": [],
   "source": [
    "# method to get the betweenness centrality of a vertex by counting number of shortest paths\n",
    "# note that this method returns normalized results\n",
    "# only efficient on small graphs\n",
    "def get_betweenness_centrality(graph_edges, vertex):\n",
    "    G = nx.Graph()\n",
    "    G.add_edges_from(graph_edges)\n",
    "    \n",
    "    # get all the shortest paths in the graph\n",
    "    shortest_paths = dict(nx.all_pairs_shortest_path(G))\n",
    "\n",
    "    target_betweenness_centrality = 0\n",
    "\n",
    "    # sum the number of times the target vertex appears in the shortest paths\n",
    "    for source, paths in shortest_paths.items():\n",
    "        for end, path in paths.items():\n",
    "            # only count if the vertex is not the source or end\n",
    "            if vertex in path[1:-1]:\n",
    "                # count the number of times the vertex appears in the path\n",
    "                total_shortest_paths = len(shortest_paths[source][end])\n",
    "                # add the count to the total\n",
    "                target_betweenness_centrality += path.count(vertex) / total_shortest_paths\n",
    "                \n",
    "    # normalize result\n",
    "    n = len(G.nodes())\n",
    "    normalization_factor = ((n-1)*(n-2))/2\n",
    "    target_betweenness_centrality /= normalization_factor\n",
    "\n",
    "    return target_betweenness_centrality\n",
    "\n",
    "# unnormalized version of the above method\n",
    "def get_betweenness_centrality_unnormalized(graph_edges, vertex):\n",
    "    G = nx.Graph()\n",
    "    G.add_edges_from(graph_edges)\n",
    "    \n",
    "    shortest_paths = dict(nx.all_pairs_shortest_path(G))\n",
    "\n",
    "    target_betweenness_centrality = 0\n",
    "\n",
    "    for source, paths in shortest_paths.items():\n",
    "        for end, path in paths.items():\n",
    "            if vertex in path[1:-1]:\n",
    "                total_shortest_paths = len(shortest_paths[source][end])\n",
    "                target_betweenness_centrality += path.count(vertex) / total_shortest_paths\n",
    "                \n",
    "    return target_betweenness_centrality"
   ],
   "metadata": {
    "collapsed": false,
    "ExecuteTime": {
     "end_time": "2024-03-05T22:48:45.295823Z",
     "start_time": "2024-03-05T22:48:45.292870Z"
    }
   },
   "id": "dcc42fbcdd478428",
   "execution_count": 187
  },
  {
   "cell_type": "markdown",
   "source": [
    "Part 2 #8"
   ],
   "metadata": {
    "collapsed": false
   },
   "id": "8b916e47483339b2"
  },
  {
   "cell_type": "code",
   "outputs": [],
   "source": [
    "# method to get the average shortest path length of the graph\n",
    "def get_average_shortest_path_length(graph_edges):\n",
    "    G = nx.Graph()\n",
    "    G.add_edges_from(graph_edges)\n",
    "    \n",
    "    shortest_path_lengths = []\n",
    "    nodes = G.nodes()\n",
    "    \n",
    "    # get the shortest path length between all pairs of nodes\n",
    "    for node1 in nodes:\n",
    "        for node2 in nodes:\n",
    "            if node1 != node2:\n",
    "                shortest_path_lengths.append(nx.shortest_path_length(G, source=node1, target=node2))\n",
    "\n",
    "    # return the average of all the shortest path lengths\n",
    "    average_shortest_path_length = sum(shortest_path_lengths) / len(shortest_path_lengths)\n",
    "    return average_shortest_path_length\n",
    "    \n",
    "    "
   ],
   "metadata": {
    "collapsed": false,
    "ExecuteTime": {
     "end_time": "2024-03-05T22:48:45.297338Z",
     "start_time": "2024-03-05T22:48:45.295291Z"
    }
   },
   "id": "df3b44cd16353572",
   "execution_count": 188
  },
  {
   "cell_type": "markdown",
   "source": [
    "Part 2 #9"
   ],
   "metadata": {
    "collapsed": false
   },
   "id": "dbeb06208925ab9e"
  },
  {
   "cell_type": "code",
   "outputs": [],
   "source": [
    "# NOTE this function assumes a 0-indexed graph and treats all as such\n",
    "\n",
    "# method to get the full adjacency matrix of the graph\n",
    "def get_adjacency_matrix(graph_edges):\n",
    "    num_nodes = max(max(edge) for edge in graph_edges) + 1\n",
    "    \n",
    "    # initialize the adjacency matrix\n",
    "    adjacency_matrix = np.zeros((num_nodes, num_nodes))\n",
    "    \n",
    "    # fill in the adjacency matrix\n",
    "    for edge in graph_edges:\n",
    "        node1, node2 = edge\n",
    "        adjacency_matrix[node1][node2] = 1\n",
    "        adjacency_matrix[node2][node1] = 1  \n",
    "    \n",
    "    return adjacency_matrix"
   ],
   "metadata": {
    "collapsed": false,
    "ExecuteTime": {
     "end_time": "2024-03-05T22:48:45.305132Z",
     "start_time": "2024-03-05T22:48:45.298823Z"
    }
   },
   "id": "2c57538717bbc93b",
   "execution_count": 189
  },
  {
   "cell_type": "markdown",
   "source": [
    "Part 2 #10"
   ],
   "metadata": {
    "collapsed": false
   },
   "id": "40efb4d18b42d5a3"
  },
  {
   "cell_type": "code",
   "outputs": [],
   "source": [
    "# power iteration to find the eigenvector centrality of each node in a network\n",
    "def get_eigenvector_centrality(adjacency_matrix, iterations=100):\n",
    "    # initialize the eigenvector\n",
    "    eigenvector = np.ones(len(adjacency_matrix))\n",
    "    eigenvector = eigenvector / np.linalg.norm(eigenvector)\n",
    "    \n",
    "    # power iteration\n",
    "    for i in range(iterations):\n",
    "        # multiply the adjacency matrix by the eigenvector\n",
    "        eigenvector = np.dot(adjacency_matrix, eigenvector)\n",
    "        # normalize the eigenvector\n",
    "        eigenvector = eigenvector / np.linalg.norm(eigenvector)\n",
    "    \n",
    "    return eigenvector\n"
   ],
   "metadata": {
    "collapsed": false,
    "ExecuteTime": {
     "end_time": "2024-03-05T22:48:45.305416Z",
     "start_time": "2024-03-05T22:48:45.301419Z"
    }
   },
   "id": "ba12abd6b3ccba6e",
   "execution_count": 190
  },
  {
   "cell_type": "code",
   "outputs": [
    {
     "name": "stdout",
     "output_type": "stream",
     "text": [
      "Number of vertices: 11\n",
      "Vertex degree: 7\n",
      "Vertex clustering coefficient: 0.19047619047619047\n",
      "Betweenness centrality: 0.2833333333333334\n",
      "Betweenness centrality (unnormalized): 12.750000000000002\n",
      "Average shortest path length: 1.709090909090909\n",
      "Adjacency matrix:\n",
      "[[0. 0. 0. 0. 0. 0. 0. 0. 0. 0. 0. 0.]\n",
      " [0. 0. 1. 1. 1. 1. 1. 1. 0. 0. 1. 0.]\n",
      " [0. 1. 0. 0. 0. 0. 0. 1. 1. 1. 0. 0.]\n",
      " [0. 1. 0. 0. 1. 0. 1. 0. 1. 0. 0. 0.]\n",
      " [0. 1. 0. 1. 0. 0. 0. 0. 1. 0. 0. 0.]\n",
      " [0. 1. 0. 0. 0. 0. 0. 1. 0. 0. 0. 0.]\n",
      " [0. 1. 0. 1. 0. 0. 0. 0. 1. 0. 0. 0.]\n",
      " [0. 1. 1. 0. 0. 1. 0. 0. 1. 1. 0. 0.]\n",
      " [0. 0. 1. 1. 1. 0. 1. 1. 0. 1. 1. 0.]\n",
      " [0. 0. 1. 0. 0. 0. 0. 1. 1. 0. 1. 0.]\n",
      " [0. 1. 0. 0. 0. 0. 0. 0. 1. 1. 0. 1.]\n",
      " [0. 0. 0. 0. 0. 0. 0. 0. 0. 0. 1. 0.]]\n",
      "Eigenvector centrality:\n",
      "[0.         0.41251858 0.32767958 0.29270246 0.2484588  0.16680067\n",
      " 0.2484588  0.35738217 0.44158863 0.30097909 0.26257683 0.05688784]\n"
     ]
    }
   ],
   "source": [
    "# main function to test the above methods\n",
    "def main():\n",
    "    # example input graph\n",
    "    input_graph = [\n",
    "        (1, 2), (1, 3), (1, 4), (1, 5), (1, 6), (1,10),\n",
    "        (2, 7), (2,8), (2,9),\n",
    "        (3, 4), (3, 6), (3, 8),\n",
    "        (4, 8),\n",
    "        (5, 7),\n",
    "        (6, 8),\n",
    "        (7, 8), (7, 9),\n",
    "        (8, 9), (8, 10),\n",
    "        (9, 10),\n",
    "        (10, 11),\n",
    "        (2, 1),\n",
    "        (10, 11),\n",
    "        (7, 1)\n",
    "    ] \n",
    "    \n",
    "    # call the functions and print the results for each one\n",
    "    print(\"Number of vertices:\", get_number_of_vertices(input_graph)) # 11\n",
    "    print(\"Vertex degree:\", get_vertex_degree(input_graph, 1)) # 6\n",
    "    print(\"Vertex clustering coefficient:\", get_vertex_clustering_coefficient(input_graph, 1)) # 0.190\n",
    "    print(\"Betweenness centrality:\", get_betweenness_centrality(input_graph, 1)) # ?\n",
    "    print(\"Betweenness centrality (unnormalized):\", get_betweenness_centrality_unnormalized(input_graph, 1)) # ?\n",
    "    print(\"Average shortest path length:\", get_average_shortest_path_length(input_graph)) # 1.709\n",
    "    print(\"Adjacency matrix:\")\n",
    "    print(get_adjacency_matrix(input_graph))\n",
    "    print(\"Eigenvector centrality:\")\n",
    "    print(get_eigenvector_centrality(get_adjacency_matrix(input_graph)))\n",
    "\n",
    "    \n",
    "\n",
    "\n",
    "main()"
   ],
   "metadata": {
    "collapsed": false,
    "ExecuteTime": {
     "end_time": "2024-03-05T22:48:45.319625Z",
     "start_time": "2024-03-05T22:48:45.307121Z"
    }
   },
   "id": "a532b366b16c115e",
   "execution_count": 191
  },
  {
   "cell_type": "code",
   "outputs": [],
   "source": [],
   "metadata": {
    "collapsed": false,
    "ExecuteTime": {
     "end_time": "2024-03-05T22:48:45.336171Z",
     "start_time": "2024-03-05T22:48:45.309234Z"
    }
   },
   "id": "45de2814feda6209",
   "execution_count": 191
  }
 ],
 "metadata": {
  "kernelspec": {
   "display_name": "Python 3",
   "language": "python",
   "name": "python3"
  },
  "language_info": {
   "codemirror_mode": {
    "name": "ipython",
    "version": 2
   },
   "file_extension": ".py",
   "mimetype": "text/x-python",
   "name": "python",
   "nbconvert_exporter": "python",
   "pygments_lexer": "ipython2",
   "version": "2.7.6"
  }
 },
 "nbformat": 4,
 "nbformat_minor": 5
}
